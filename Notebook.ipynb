{
 "cells": [
  {
   "cell_type": "code",
   "execution_count": 1,
   "metadata": {},
   "outputs": [],
   "source": [
    "import pandas as pd"
   ]
  },
  {
   "cell_type": "code",
   "execution_count": 6,
   "metadata": {},
   "outputs": [],
   "source": [
    "hospital_data = pd.read_csv(\"data/patient-discharge-data-by-principal-diagnosis.csv\")"
   ]
  },
  {
   "cell_type": "code",
   "execution_count": 7,
   "metadata": {},
   "outputs": [
    {
     "data": {
      "text/html": [
       "<div>\n",
       "<style scoped>\n",
       "    .dataframe tbody tr th:only-of-type {\n",
       "        vertical-align: middle;\n",
       "    }\n",
       "\n",
       "    .dataframe tbody tr th {\n",
       "        vertical-align: top;\n",
       "    }\n",
       "\n",
       "    .dataframe thead th {\n",
       "        text-align: right;\n",
       "    }\n",
       "</style>\n",
       "<table border=\"1\" class=\"dataframe\">\n",
       "  <thead>\n",
       "    <tr style=\"text-align: right;\">\n",
       "      <th></th>\n",
       "      <th>Year</th>\n",
       "      <th>OSHPD ID</th>\n",
       "      <th>Facility Name</th>\n",
       "      <th>Type of Control</th>\n",
       "      <th>County Name</th>\n",
       "      <th>Principal Diagnosis Group</th>\n",
       "      <th>Count</th>\n",
       "    </tr>\n",
       "  </thead>\n",
       "  <tbody>\n",
       "    <tr>\n",
       "      <td>0</td>\n",
       "      <td>2009</td>\n",
       "      <td>10735</td>\n",
       "      <td>ALAMEDA HOSPITAL</td>\n",
       "      <td>District</td>\n",
       "      <td>ALAMEDA</td>\n",
       "      <td>Infections</td>\n",
       "      <td>243</td>\n",
       "    </tr>\n",
       "    <tr>\n",
       "      <td>1</td>\n",
       "      <td>2009</td>\n",
       "      <td>10735</td>\n",
       "      <td>ALAMEDA HOSPITAL</td>\n",
       "      <td>District</td>\n",
       "      <td>ALAMEDA</td>\n",
       "      <td>Neoplasms</td>\n",
       "      <td>68</td>\n",
       "    </tr>\n",
       "    <tr>\n",
       "      <td>2</td>\n",
       "      <td>2009</td>\n",
       "      <td>10735</td>\n",
       "      <td>ALAMEDA HOSPITAL</td>\n",
       "      <td>District</td>\n",
       "      <td>ALAMEDA</td>\n",
       "      <td>Endocrine/Metabolism</td>\n",
       "      <td>99</td>\n",
       "    </tr>\n",
       "    <tr>\n",
       "      <td>3</td>\n",
       "      <td>2009</td>\n",
       "      <td>10735</td>\n",
       "      <td>ALAMEDA HOSPITAL</td>\n",
       "      <td>District</td>\n",
       "      <td>ALAMEDA</td>\n",
       "      <td>Blood/Blood-forming Organs</td>\n",
       "      <td>54</td>\n",
       "    </tr>\n",
       "    <tr>\n",
       "      <td>4</td>\n",
       "      <td>2009</td>\n",
       "      <td>10735</td>\n",
       "      <td>ALAMEDA HOSPITAL</td>\n",
       "      <td>District</td>\n",
       "      <td>ALAMEDA</td>\n",
       "      <td>Psychoses &amp; Neurosis</td>\n",
       "      <td>33</td>\n",
       "    </tr>\n",
       "  </tbody>\n",
       "</table>\n",
       "</div>"
      ],
      "text/plain": [
       "   Year  OSHPD ID     Facility Name Type of Control County Name  \\\n",
       "0  2009     10735  ALAMEDA HOSPITAL        District     ALAMEDA   \n",
       "1  2009     10735  ALAMEDA HOSPITAL        District     ALAMEDA   \n",
       "2  2009     10735  ALAMEDA HOSPITAL        District     ALAMEDA   \n",
       "3  2009     10735  ALAMEDA HOSPITAL        District     ALAMEDA   \n",
       "4  2009     10735  ALAMEDA HOSPITAL        District     ALAMEDA   \n",
       "\n",
       "    Principal Diagnosis Group  Count  \n",
       "0                  Infections    243  \n",
       "1                   Neoplasms     68  \n",
       "2        Endocrine/Metabolism     99  \n",
       "3  Blood/Blood-forming Organs     54  \n",
       "4        Psychoses & Neurosis     33  "
      ]
     },
     "execution_count": 7,
     "metadata": {},
     "output_type": "execute_result"
    }
   ],
   "source": [
    "hospital_data.head()"
   ]
  },
  {
   "cell_type": "code",
   "execution_count": 8,
   "metadata": {},
   "outputs": [
    {
     "data": {
      "text/html": [
       "<div>\n",
       "<style scoped>\n",
       "    .dataframe tbody tr th:only-of-type {\n",
       "        vertical-align: middle;\n",
       "    }\n",
       "\n",
       "    .dataframe tbody tr th {\n",
       "        vertical-align: top;\n",
       "    }\n",
       "\n",
       "    .dataframe thead th {\n",
       "        text-align: right;\n",
       "    }\n",
       "</style>\n",
       "<table border=\"1\" class=\"dataframe\">\n",
       "  <thead>\n",
       "    <tr style=\"text-align: right;\">\n",
       "      <th></th>\n",
       "      <th>Year</th>\n",
       "      <th>OSHPD ID</th>\n",
       "      <th>Count</th>\n",
       "    </tr>\n",
       "  </thead>\n",
       "  <tbody>\n",
       "    <tr>\n",
       "      <td>count</td>\n",
       "      <td>40731.000000</td>\n",
       "      <td>40731.000000</td>\n",
       "      <td>40731.000000</td>\n",
       "    </tr>\n",
       "    <tr>\n",
       "      <td>mean</td>\n",
       "      <td>2011.489848</td>\n",
       "      <td>281218.986251</td>\n",
       "      <td>571.990057</td>\n",
       "    </tr>\n",
       "    <tr>\n",
       "      <td>std</td>\n",
       "      <td>1.713657</td>\n",
       "      <td>135949.175171</td>\n",
       "      <td>890.239564</td>\n",
       "    </tr>\n",
       "    <tr>\n",
       "      <td>min</td>\n",
       "      <td>2009.000000</td>\n",
       "      <td>10735.000000</td>\n",
       "      <td>1.000000</td>\n",
       "    </tr>\n",
       "    <tr>\n",
       "      <td>25%</td>\n",
       "      <td>2010.000000</td>\n",
       "      <td>190382.000000</td>\n",
       "      <td>48.000000</td>\n",
       "    </tr>\n",
       "    <tr>\n",
       "      <td>50%</td>\n",
       "      <td>2011.000000</td>\n",
       "      <td>301155.000000</td>\n",
       "      <td>227.000000</td>\n",
       "    </tr>\n",
       "    <tr>\n",
       "      <td>75%</td>\n",
       "      <td>2013.000000</td>\n",
       "      <td>370977.000000</td>\n",
       "      <td>711.000000</td>\n",
       "    </tr>\n",
       "    <tr>\n",
       "      <td>max</td>\n",
       "      <td>2014.000000</td>\n",
       "      <td>580996.000000</td>\n",
       "      <td>10560.000000</td>\n",
       "    </tr>\n",
       "  </tbody>\n",
       "</table>\n",
       "</div>"
      ],
      "text/plain": [
       "               Year       OSHPD ID         Count\n",
       "count  40731.000000   40731.000000  40731.000000\n",
       "mean    2011.489848  281218.986251    571.990057\n",
       "std        1.713657  135949.175171    890.239564\n",
       "min     2009.000000   10735.000000      1.000000\n",
       "25%     2010.000000  190382.000000     48.000000\n",
       "50%     2011.000000  301155.000000    227.000000\n",
       "75%     2013.000000  370977.000000    711.000000\n",
       "max     2014.000000  580996.000000  10560.000000"
      ]
     },
     "execution_count": 8,
     "metadata": {},
     "output_type": "execute_result"
    }
   ],
   "source": [
    "hospital_data.describe()"
   ]
  },
  {
   "cell_type": "code",
   "execution_count": 12,
   "metadata": {},
   "outputs": [
    {
     "data": {
      "text/plain": [
       "2009"
      ]
     },
     "execution_count": 12,
     "metadata": {},
     "output_type": "execute_result"
    }
   ],
   "source": [
    "#oldest year in data\n",
    "min(hospital_data.Year)"
   ]
  },
  {
   "cell_type": "code",
   "execution_count": 13,
   "metadata": {},
   "outputs": [
    {
     "data": {
      "text/plain": [
       "2014"
      ]
     },
     "execution_count": 13,
     "metadata": {},
     "output_type": "execute_result"
    }
   ],
   "source": [
    "#most recent year in data\n",
    "max(hospital_data.Year)"
   ]
  },
  {
   "cell_type": "code",
   "execution_count": 23,
   "metadata": {},
   "outputs": [
    {
     "data": {
      "text/plain": [
       "469"
      ]
     },
     "execution_count": 23,
     "metadata": {},
     "output_type": "execute_result"
    }
   ],
   "source": [
    "#number of different IDs\n",
    "pd.unique(hospital_data['OSHPD ID']).size"
   ]
  },
  {
   "cell_type": "code",
   "execution_count": 24,
   "metadata": {},
   "outputs": [
    {
     "data": {
      "text/plain": [
       "571"
      ]
     },
     "execution_count": 24,
     "metadata": {},
     "output_type": "execute_result"
    }
   ],
   "source": [
    "#number of different Facilities\n",
    "pd.unique(hospital_data['Facility Name']).size"
   ]
  },
  {
   "cell_type": "code",
   "execution_count": 25,
   "metadata": {},
   "outputs": [
    {
     "data": {
      "text/plain": [
       "56"
      ]
     },
     "execution_count": 25,
     "metadata": {},
     "output_type": "execute_result"
    }
   ],
   "source": [
    "#number of different Counties\n",
    "pd.unique(hospital_data['County Name']).size"
   ]
  },
  {
   "cell_type": "code",
   "execution_count": 27,
   "metadata": {},
   "outputs": [
    {
     "data": {
      "text/plain": [
       "19"
      ]
     },
     "execution_count": 27,
     "metadata": {},
     "output_type": "execute_result"
    }
   ],
   "source": [
    "#number of different Diagnosis\n",
    "pd.unique(hospital_data['Principal Diagnosis Group']).size"
   ]
  },
  {
   "cell_type": "code",
   "execution_count": null,
   "metadata": {},
   "outputs": [],
   "source": [
    "#list of different Diagnosis\n",
    "pd.unique(hospital_data['Principal Diagnosis Group']).size"
   ]
  }
 ],
 "metadata": {
  "kernelspec": {
   "display_name": "Python 3",
   "language": "python",
   "name": "python3"
  },
  "language_info": {
   "codemirror_mode": {
    "name": "ipython",
    "version": 3
   },
   "file_extension": ".py",
   "mimetype": "text/x-python",
   "name": "python",
   "nbconvert_exporter": "python",
   "pygments_lexer": "ipython3",
   "version": "3.7.4"
  }
 },
 "nbformat": 4,
 "nbformat_minor": 2
}
